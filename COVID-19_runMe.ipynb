{
 "cells": [
  {
   "cell_type": "markdown",
   "metadata": {},
   "source": [
    "The [Neherlab COVID-19](https://neherlab.org/covid19/) forecast model\n",
    "\n",
    "Runs with 4 processes (if 4 cores CPU) - Only for optimised libraries"
   ]
  },
  {
   "cell_type": "code",
   "execution_count": 1,
   "metadata": {},
   "outputs": [],
   "source": [
    "#using Distributed\n",
    "#TOTAL_PROCS = 4\n",
    "#Distributed.addprocs(TOTAL_PROCS - Distributed.nprocs())"
   ]
  },
  {
   "cell_type": "code",
   "execution_count": 2,
   "metadata": {},
   "outputs": [
    {
     "name": "stdout",
     "output_type": "stream",
     "text": [
      "thread = 1 warning: only found 10 / 11 columns on data row: 121. Filling remaining columns with `missing`\n"
     ]
    },
    {
     "data": {
      "text/plain": [
       "approximateModelStartRange (generic function with 1 method)"
      ]
     },
     "execution_count": 2,
     "metadata": {},
     "output_type": "execute_result"
    }
   ],
   "source": [
    "include(\"COVID-19-parameters.jl\")\n",
    "include(\"COVID-19-utils.jl\")\n",
    "include(\"COVID-19-model.jl\")\n",
    "include(\"COVID-19-run-model.jl\")\n",
    "include(\"COVID-19-data.jl\")"
   ]
  },
  {
   "cell_type": "code",
   "execution_count": 3,
   "metadata": {},
   "outputs": [
    {
     "data": {
      "text/plain": [
       "Plots.PyPlotBackend()"
      ]
     },
     "execution_count": 3,
     "metadata": {},
     "output_type": "execute_result"
    }
   ],
   "source": [
    "using BlackBoxOptim\n",
    "using PyPlot\n",
    "pyplot()"
   ]
  },
  {
   "cell_type": "markdown",
   "metadata": {},
   "source": [
    "Global variable that holds the optimised disease parameters"
   ]
  },
  {
   "cell_type": "code",
   "execution_count": 4,
   "metadata": {},
   "outputs": [
    {
     "data": {
      "text/plain": [
       "12-element Array{Float64,1}:\n",
       "  2.3954 \n",
       "  5.653  \n",
       "  2.676  \n",
       "  2.007  \n",
       " 13.884  \n",
       "  0.33407\n",
       "  0.25587\n",
       "  0.47757\n",
       "  5.94806\n",
       "  5.54388\n",
       "  0.82117\n",
       "  1.0    "
      ]
     },
     "execution_count": 4,
     "metadata": {},
     "output_type": "execute_result"
    }
   ],
   "source": [
    "DiseaseParameters = DISEASE_INIT"
   ]
  },
  {
   "cell_type": "markdown",
   "metadata": {},
   "source": [
    "If running for the first time, or no updates for a long time"
   ]
  },
  {
   "cell_type": "code",
   "execution_count": 5,
   "metadata": {},
   "outputs": [
    {
     "data": {
      "text/plain": [
       "\"data/hospital_capacity.csv\""
      ]
     },
     "execution_count": 5,
     "metadata": {},
     "output_type": "execute_result"
    }
   ],
   "source": [
    "updateData()"
   ]
  },
  {
   "cell_type": "code",
   "execution_count": 6,
   "metadata": {},
   "outputs": [
    {
     "data": {
      "text/plain": [
       "5-element Array{Tuple{String,Symbol},1}:\n",
       " (\"France\", :north)                  \n",
       " (\"Italy\", :north)                   \n",
       " (\"Spain\", :north)                   \n",
       " (\"United Kingdom\", :north)          \n",
       " (\"United States of America\", :north)"
      ]
     },
     "execution_count": 6,
     "metadata": {},
     "output_type": "execute_result"
    }
   ],
   "source": [
    "#-- FOR DEBUGGING RUNS\n",
    "COUNTRY_LIST = [\n",
    "    (\"France\",                      :north),\n",
    "    (\"Italy\",                       :north),\n",
    "    (\"Spain\",                       :north),\n",
    "    (\"United Kingdom\",              :north),\n",
    "    (\"United States of America\",    :north)]\n",
    "\n",
    "# COUNTRY_LIST = [\n",
    "#     (\"Austria\",                     :north),\n",
    "#     (\"Belgium\",                     :north),\n",
    "#     (\"Bulgaria\",                    :north),\n",
    "#     (\"Canada\",                      :north),\n",
    "#     (\"China\",                       :north),\n",
    "#     (\"Denmark\",                     :north),\n",
    "#     (\"France\",                      :north),\n",
    "#     (\"Germany\",                     :north),\n",
    "#     (\"Greece\",                      :north),\n",
    "#     (\"India\",                       :north),\n",
    "#     (\"Iran\",                        :north),\n",
    "#     (\"Italy\",                       :north),\n",
    "#     (\"Japan\",                       :north),\n",
    "#     (\"Netherlands\",                 :north),\n",
    "#     (\"Norway\",                      :north),\n",
    "#     (\"Poland\",                      :north),\n",
    "#     (\"Spain\",                       :north),\n",
    "#     (\"Sweden\",                      :north),\n",
    "#     (\"United_Kingdom\",              :north),\n",
    "#     (\"United_States_of_America\",    :north)]"
   ]
  },
  {
   "cell_type": "code",
   "execution_count": 7,
   "metadata": {},
   "outputs": [
    {
     "ename": "BoundsError",
     "evalue": "BoundsError: attempt to access String",
     "output_type": "error",
     "traceback": [
      "BoundsError: attempt to access String",
      "",
      "Stacktrace:",
      " [1] getindex(::DataFrame, ::Int64, ::Symbol) at /home/lololobo93/.julia/packages/DataFrames/S3ZFo/src/dataframe/dataframe.jl:325",
      " [2] #populateCountryData#40(::Bool, ::typeof(populateCountryData), ::String, ::Symbol) at /home/lololobo93/Desktop/COVID-19-Julia/COVID-19-data.jl:116",
      " [3] #76 at ./none:0 [inlined]",
      " [4] iterate at ./generator.jl:47 [inlined]",
      " [5] _all(::Base.var\"#240#242\", ::Base.Generator{Array{Tuple{String,Symbol},1},var\"#76#77\"}, ::Colon) at ./reduce.jl:736",
      " [6] all at ./reduce.jl:724 [inlined]",
      " [7] Dict(::Base.Generator{Array{Tuple{String,Symbol},1},var\"#76#77\"}) at ./dict.jl:130",
      " [8] top-level scope at In[7]:2"
     ]
    }
   ],
   "source": [
    "COUNTRY_LIST_N = length(COUNTRY_LIST)\n",
    "\n",
    "countryData = Dict( c => populateCountryData(c, h, useOptimised = false) for (c, h) in COUNTRY_LIST)"
   ]
  }
 ],
 "metadata": {
  "kernelspec": {
   "display_name": "Julia 1.3.1",
   "language": "julia",
   "name": "julia-1.3"
  },
  "language_info": {
   "file_extension": ".jl",
   "mimetype": "application/julia",
   "name": "julia",
   "version": "1.3.1"
  }
 },
 "nbformat": 4,
 "nbformat_minor": 2
}
